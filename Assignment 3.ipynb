{
 "cells": [
  {
   "cell_type": "markdown",
   "id": "700746df",
   "metadata": {},
   "source": [
    "### Write a function to count the number 4 in a given list.\n"
   ]
  },
  {
   "cell_type": "code",
   "execution_count": null,
   "id": "547e165a",
   "metadata": {},
   "outputs": [],
   "source": [
    "l=[1,4,2,4,3,4,5]\n",
    "x=0\n",
    "for i in l:\n",
    "    if l[i]==4:\n",
    "        x=x+1\n",
    "print(x)"
   ]
  },
  {
   "cell_type": "code",
   "execution_count": null,
   "id": "a50fe6a4",
   "metadata": {},
   "outputs": [],
   "source": [
    "def count(ll):\n",
    "    x=0\n",
    "    for i in ll:\n",
    "        if ll[i]==4:\n",
    "            x=x+1\n",
    "    print(x)\n",
    "count(l)"
   ]
  },
  {
   "cell_type": "markdown",
   "id": "0c7c47f6",
   "metadata": {},
   "source": [
    "#### write a function to check whether a number is divisible by another number.\n"
   ]
  },
  {
   "cell_type": "code",
   "execution_count": null,
   "id": "dc69a990",
   "metadata": {},
   "outputs": [],
   "source": [
    "x=lambda a,b :'True'  if a%b==0 else 'false'\n",
    "x(20,10)"
   ]
  },
  {
   "cell_type": "code",
   "execution_count": null,
   "id": "0c6be789",
   "metadata": {},
   "outputs": [],
   "source": [
    "test = lambda x,y : True if (x%y==0) else False\n",
    "test(15,15)"
   ]
  },
  {
   "cell_type": "code",
   "execution_count": null,
   "id": "e6c62b83",
   "metadata": {},
   "outputs": [],
   "source": [
    "test=lambda a,b : 'yas' if a%b==0 else 'nooo'\n",
    "test(1,2)"
   ]
  },
  {
   "cell_type": "code",
   "execution_count": null,
   "id": "c5da1cbd",
   "metadata": {},
   "outputs": [],
   "source": [
    "def divisible(a,b):\n",
    "    if a%b==0:\n",
    "        print('true') \n",
    "    else:\n",
    "        print('false')\n",
    "divisible(2,5)\n",
    "divisible(20,5)\n"
   ]
  },
  {
   "cell_type": "markdown",
   "id": "8171d853",
   "metadata": {},
   "source": [
    "#### write a function to find the maximum and minimum numbers from a sequence of numbers.\n"
   ]
  },
  {
   "cell_type": "code",
   "execution_count": null,
   "id": "95b92f05",
   "metadata": {},
   "outputs": [],
   "source": [
    "a=1,2,3,4,5\n",
    "print(type(x))\n",
    "\n",
    "def max_min (t):\n",
    "    m=t[0]\n",
    "    n=t[0]\n",
    "    for i in t:\n",
    "        if  i>m:\n",
    "            m=i\n",
    "        elif  i<n:\n",
    "            n=i\n",
    "    #return  m,n\n",
    "    print(f'max value is {m} and min value is {n}')\n",
    "                \n",
    "            \n",
    "max_min(x)"
   ]
  },
  {
   "cell_type": "markdown",
   "id": "053827cf",
   "metadata": {},
   "source": [
    "#### Write a Python function that takes two lists and returns True if they have at least one common member.\n"
   ]
  },
  {
   "cell_type": "code",
   "execution_count": null,
   "id": "5d3b331a",
   "metadata": {},
   "outputs": [],
   "source": [
    "x=[1,2,3,4]\n",
    "y=[4,5,6,7]\n",
    "def comp(a,b):\n",
    "    result=False\n",
    "    for i in a :\n",
    "        for j in b:\n",
    "            if i==j:\n",
    "                result = True              \n",
    "    return result\n",
    "            \n",
    "comp(x,y)"
   ]
  },
  {
   "cell_type": "markdown",
   "id": "cdc6989c",
   "metadata": {},
   "source": [
    "#### Write a Python function to calculate the factorial of a number (a non-negative integer). The function accepts the number #### from the user"
   ]
  },
  {
   "cell_type": "code",
   "execution_count": null,
   "id": "47abefdb",
   "metadata": {},
   "outputs": [],
   "source": [
    "a=int(input('plz enter number'))\n",
    "def fac(x):\n",
    "    if x==1:\n",
    "        return 1\n",
    "    else:\n",
    "        return x*fac(x-1)\n",
    "b=fac(a)\n",
    "if a>=0:\n",
    "    print(b)\n",
    "else:\n",
    "    print('y entered invalid number')\n",
    "    "
   ]
  },
  {
   "cell_type": "markdown",
   "id": "c18c4132",
   "metadata": {},
   "source": [
    "#### Write a Python function to check whether a number is in a given range.\n",
    "#### The range is from 3 to 11"
   ]
  },
  {
   "cell_type": "code",
   "execution_count": null,
   "id": "7fb567d5",
   "metadata": {},
   "outputs": [],
   "source": [
    "def fun(x):\n",
    "    print('even numbers are :')\n",
    "    for i in x:\n",
    "        if i%2==0:\n",
    "            print(i)\n",
    "a=range(3,11)\n",
    "fun(a)"
   ]
  },
  {
   "cell_type": "markdown",
   "id": "22bfc374",
   "metadata": {},
   "source": [
    "#### Write a program to create the multiplication table (from 1 to 10) of a number.\n"
   ]
  },
  {
   "cell_type": "code",
   "execution_count": null,
   "id": "9392e963",
   "metadata": {},
   "outputs": [],
   "source": [
    "def mult(y):\n",
    "    z=1*y\n",
    "    print(z)\n",
    "for a in range(0,11):\n",
    "    \n",
    "    mult(a)\n"
   ]
  },
  {
   "cell_type": "code",
   "execution_count": null,
   "id": "e583154e",
   "metadata": {},
   "outputs": [],
   "source": [
    "def mult(y):\n",
    "    for y in range(0,11):\n",
    "        z=1*y\n",
    "        print(z)\n",
    "\n",
    "mult(y)\n"
   ]
  },
  {
   "cell_type": "code",
   "execution_count": null,
   "id": "7332d098",
   "metadata": {},
   "outputs": [],
   "source": [
    "for y in range(0,11):\n",
    "    print(y)"
   ]
  },
  {
   "cell_type": "markdown",
   "id": "e95e4a04",
   "metadata": {},
   "source": [
    "#### LESSER OF TWO EVENS: Write a function that returns the lesser of two given numbers if both numbers are even, but returns the greater if one or both numbers are odd\n",
    "##### lesser_of_two_evens(2,4) --> 2\n",
    "##### lesser_of_two_evens(2,5) --> 5"
   ]
  },
  {
   "cell_type": "code",
   "execution_count": null,
   "id": "b221088a",
   "metadata": {},
   "outputs": [],
   "source": [
    "def comp(x,y):\n",
    "    if x%y==0:\n",
    "        if x>y:\n",
    "            return y\n",
    "        else:\n",
    "            return x\n",
    "    else:\n",
    "        if x>y:\n",
    "            return x\n",
    "        else:\n",
    "            return y\n",
    "print(comp(10,2))\n",
    "print(comp(3,2))"
   ]
  },
  {
   "cell_type": "markdown",
   "id": "3f1ce816",
   "metadata": {},
   "source": [
    "#### ANIMAL CRACKERS: Write a function takes a two-word string and returns True if both words begin with same letter\n",
    "##### animal_crackers('Levelheaded Llama') --> True\n",
    "##### animal_crackers('Crazy Kangaroo') --> False"
   ]
  },
  {
   "cell_type": "code",
   "execution_count": null,
   "id": "b5bc5dc7",
   "metadata": {},
   "outputs": [],
   "source": [
    "def animal_crackers(x,y):\n",
    "    if x[0]==y[0]:\n",
    "        return True \n",
    "    else :\n",
    "        return False\n",
    "a=input('plz enter first word')\n",
    "b=input('PLZ enter second word ')\n",
    "animal_crackers(a,b)"
   ]
  },
  {
   "cell_type": "markdown",
   "id": "f1e6aaa0",
   "metadata": {},
   "source": [
    "#### MAKES TWENTY: Given two integers, return True if the sum of the integers is 20 or if one of the integers is 20. If not, return False\n",
    "##### makes_twenty(20,10) --> True\n",
    "##### makes_twenty(12,8) --> True\n",
    "##### makes_twenty(2,3) --> False"
   ]
  },
  {
   "cell_type": "code",
   "execution_count": null,
   "id": "69d30877",
   "metadata": {},
   "outputs": [],
   "source": [
    "def add(x,y):\n",
    "    if x+y==20 or x==20 or y==20:\n",
    "        print(True)\n",
    "    else :\n",
    "        print(False)\n",
    "a=int(input('PLZ Enter first number'))\n",
    "b=int(input('PLZ Enter second number'))\n",
    "add(a,b)"
   ]
  },
  {
   "cell_type": "markdown",
   "id": "b7441063",
   "metadata": {},
   "source": [
    "#### ALMOST THERE: Given an integer n, return True if n is within 10 of either 100 or 200\n",
    "##### almost_there(90) --> True\n",
    "##### almost_there(104) --> True\n",
    "##### almost_there(150) --> False\n",
    "##### almost_there(209) --> True\n",
    "\n",
    "##### NOTE: abs(num) returns the absolute value of a number"
   ]
  },
  {
   "cell_type": "code",
   "execution_count": null,
   "id": "a3f17b51",
   "metadata": {},
   "outputs": [],
   "source": [
    "def almost_there(x):\n",
    "    if x in range(90,111) or x in range(190,211):       \n",
    "        return True\n",
    "    else:\n",
    "        return False\n",
    "a=int(input('please input a number'))\n",
    "almost_there(a)"
   ]
  },
  {
   "cell_type": "code",
   "execution_count": null,
   "id": "e45bad91",
   "metadata": {},
   "outputs": [],
   "source": [
    "x=int(input('please input a number'))\n",
    "\n",
    "if x>=90 and x<=110 :\n",
    "    if x>=190 and x<=210:\n",
    "        print('ok')\n",
    "    else:\n",
    "        print('np')"
   ]
  },
  {
   "cell_type": "markdown",
   "id": "e31d34de",
   "metadata": {},
   "source": [
    "#### BLACKJACK: Given three integers between 1 and 11, if their sum is less than or equal to 21, return their sum. If their sum exceeds 21 and there's an eleven, reduce the total sum by 10. Finally, if the sum exceeds 21, return 'BUST'\n",
    "##### blackjack(5,6,7) --> 18\n",
    "##### blackjack(9,9,9) --> 'BUST'\n",
    "##### blackjack(9,9,11) --> 19"
   ]
  },
  {
   "cell_type": "code",
   "execution_count": null,
   "id": "defa9bb4",
   "metadata": {},
   "outputs": [],
   "source": [
    "print ('PLZ enter 3 numbers')\n",
    "def add(x,y,z):\n",
    "    sum=x+y+z\n",
    "    if sum<=21 :\n",
    "        return  sum\n",
    "    elif sum>21 :\n",
    "        if x==11 or y==11 or z==11:\n",
    "            return sum-10\n",
    "        else :\n",
    "            return print('BUST')\n",
    "        \n",
    "a=int(input('PLZ enter first number '))\n",
    "b=int(input('PLZ enter second number '))\n",
    "c=int(input('PLZ enter third number '))\n",
    "add(a,b,c)"
   ]
  },
  {
   "cell_type": "code",
   "execution_count": null,
   "id": "c93cf289",
   "metadata": {},
   "outputs": [],
   "source": []
  }
 ],
 "metadata": {
  "kernelspec": {
   "display_name": "Python 3 (ipykernel)",
   "language": "python",
   "name": "python3"
  },
  "language_info": {
   "codemirror_mode": {
    "name": "ipython",
    "version": 3
   },
   "file_extension": ".py",
   "mimetype": "text/x-python",
   "name": "python",
   "nbconvert_exporter": "python",
   "pygments_lexer": "ipython3",
   "version": "3.9.7"
  }
 },
 "nbformat": 4,
 "nbformat_minor": 5
}
